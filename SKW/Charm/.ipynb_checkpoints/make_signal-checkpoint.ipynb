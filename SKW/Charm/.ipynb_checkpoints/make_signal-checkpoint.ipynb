{
 "cells": [
  {
   "cell_type": "markdown",
   "metadata": {},
   "source": [
    "# Generation of $B^{0}\\rightarrow K^{+} \\pi^{-}$ MC"
   ]
  },
  {
   "cell_type": "markdown",
   "metadata": {},
   "source": [
    "## 1. Getting ready\n",
    "\n",
    "To get started, we need to create a path to which we will add the generation/simulation/reconstruction modules."
   ]
  },
  {
   "cell_type": "code",
   "execution_count": 1,
   "metadata": {},
   "outputs": [],
   "source": [
    "# start by importing some libraries we need\n",
    "import basf2 as b2\n",
    "\n",
    "# and create the path, which you will fill with all the processes\n",
    "path = b2.create_path()"
   ]
  },
  {
   "cell_type": "markdown",
   "metadata": {},
   "source": [
    "## 2. Define the run range\n",
    "\n",
    "The Belle II code is designed to load the proper geometry of the detector depending on which experiment and run combination is used. Since we are in early phase 3, it makes sense to start there. Experiment 1003 is reserved as a place holder for run-independent (run=0) MC.\n",
    "\n",
    "We will also start by producing 100 events. You can change this later.\n",
    "\n",
    "Note that the global tag used in the script will be the default one for the release, which is appropriate for run-independent MC. If you produce run-dependent MC, you will need to set the appropriate global tag."
   ]
  },
  {
   "cell_type": "code",
   "execution_count": 2,
   "metadata": {},
   "outputs": [
    {
     "name": "stdout",
     "output_type": "stream",
     "text": [
      "\n",
      "===================\n",
      "  EventInfoSetter\n",
      "===================\n",
      "Description: Sets the event meta data information (exp, run, evt). You must use this module to tell basf2 about the number of events you want to generate, unless you have an input module that already does so. Note that all experiment/run combinations specified must be unique.\n",
      "Package:     framework\n",
      "--------------------------------------------------------------------------------------------------------------------------------------------------------------------------------\n",
      "Parameter   Type               Default Current Steering Description\n",
      "--------------------------------------------------------------------------------------------------------------------------------------------------------------------------------\n",
      "evtNumList  list(unsigned int) [1]     [100]   True     List of the number of events which should be processed. Can be overridden via -n argument to basf2.\n",
      "expList     list(int)          [0]     [1003]  True     List of experiment numbers. Can be overridden via --experiment argument to basf2.\n",
      "runList     list(int)          [0]     [0]     True     List of run numbers. Can be overridden via --run argument to basf2.\n",
      "skipNEvents unsigned int       0       0       False    Skip this number of events before starting. Equivalent to running over this many events without performing any action,\n",
      "                                                        to allow starting at higher event numbers.\n",
      "skipToEvent list(int)          []      []      False    Skip events until the event with the specified (experiment, run, event number) occurs. This parameter is useful for\n",
      "                                                        debugging to start with a specific event.\n",
      "\n"
     ]
    }
   ],
   "source": [
    "# Load the EventInfoSetter module and set the exp/run/evt details\n",
    "setter = path.add_module(\"EventInfoSetter\", expList=[1003],runList=[0],evtNumList=[100])\n",
    "b2.print_params(setter)"
   ]
  },
  {
   "cell_type": "markdown",
   "metadata": {},
   "source": [
    "We can also add beam backgrounds to the simulation to get a more realistic impression of the performance. Use the https://confluence.desy.de/display/BI/Beam+background+samples page to determine the correct ones. Then define a python variable to the path to the overlay files.\n",
    "\n",
    "Hint: use glob (https://docs.python.org/3/library/glob.html)"
   ]
  },
  {
   "cell_type": "code",
   "execution_count": 3,
   "metadata": {},
   "outputs": [
    {
     "data": {
      "text/plain": [
       "['/group/belle2/BGFile/OfficialBKG/15thCampaign/bgoverlay_phase3/bgoverlay_000004_prod00003150_task00000004.root',\n",
       " '/group/belle2/BGFile/OfficialBKG/15thCampaign/bgoverlay_phase3/bgoverlay_000019_prod00003150_task00000019.root',\n",
       " '/group/belle2/BGFile/OfficialBKG/15thCampaign/bgoverlay_phase3/bgoverlay_000025_prod00003150_task00000025.root',\n",
       " '/group/belle2/BGFile/OfficialBKG/15thCampaign/bgoverlay_phase3/bgoverlay_000032_prod00003150_task00000032.root',\n",
       " '/group/belle2/BGFile/OfficialBKG/15thCampaign/bgoverlay_phase3/bgoverlay_000007_prod00003150_task00000007.root',\n",
       " '/group/belle2/BGFile/OfficialBKG/15thCampaign/bgoverlay_phase3/bgoverlay_000021_prod00003150_task00000021.root',\n",
       " '/group/belle2/BGFile/OfficialBKG/15thCampaign/bgoverlay_phase3/bgoverlay_000028_prod00003150_task00000028.root',\n",
       " '/group/belle2/BGFile/OfficialBKG/15thCampaign/bgoverlay_phase3/bgoverlay_000008_prod00003150_task00000008.root',\n",
       " '/group/belle2/BGFile/OfficialBKG/15thCampaign/bgoverlay_phase3/bgoverlay_000033_prod00003150_task00000033.root',\n",
       " '/group/belle2/BGFile/OfficialBKG/15thCampaign/bgoverlay_phase3/bgoverlay_000002_prod00003150_task00000002.root',\n",
       " '/group/belle2/BGFile/OfficialBKG/15thCampaign/bgoverlay_phase3/bgoverlay_000013_prod00003150_task00000013.root',\n",
       " '/group/belle2/BGFile/OfficialBKG/15thCampaign/bgoverlay_phase3/bgoverlay_000017_prod00003150_task00000017.root',\n",
       " '/group/belle2/BGFile/OfficialBKG/15thCampaign/bgoverlay_phase3/bgoverlay_000031_prod00003150_task00000031.root',\n",
       " '/group/belle2/BGFile/OfficialBKG/15thCampaign/bgoverlay_phase3/bgoverlay_000030_prod00003150_task00000030.root',\n",
       " '/group/belle2/BGFile/OfficialBKG/15thCampaign/bgoverlay_phase3/bgoverlay_000026_prod00003150_task00000026.root',\n",
       " '/group/belle2/BGFile/OfficialBKG/15thCampaign/bgoverlay_phase3/bgoverlay_000038_prod00003150_task00000038.root',\n",
       " '/group/belle2/BGFile/OfficialBKG/15thCampaign/bgoverlay_phase3/bgoverlay_000006_prod00003150_task00000006.root',\n",
       " '/group/belle2/BGFile/OfficialBKG/15thCampaign/bgoverlay_phase3/bgoverlay_000023_prod00003150_task00000023.root',\n",
       " '/group/belle2/BGFile/OfficialBKG/15thCampaign/bgoverlay_phase3/bgoverlay_000037_prod00003150_task00000037.root',\n",
       " '/group/belle2/BGFile/OfficialBKG/15thCampaign/bgoverlay_phase3/bgoverlay_000012_prod00003150_task00000012.root']"
      ]
     },
     "execution_count": 3,
     "metadata": {},
     "output_type": "execute_result"
    }
   ],
   "source": [
    "# Define the beam background (collision) files\n",
    "phase3Samples = '/group/belle2/BGFile/OfficialBKG/15thCampaign/bgoverlay_phase3/*'\n",
    "import glob\n",
    "bkg = glob.glob(phase3Samples)\n",
    "bkg"
   ]
  },
  {
   "cell_type": "markdown",
   "metadata": {},
   "source": [
    "## 3. Add gen/sim/rec modules\n",
    "\n",
    "We start by generating the initial decay by passing the so called dec(ay) file. This file dictates the physics of the non-stable particles. Take a look at one or two of the files for dedicated signal modes here:\n",
    "https://stash.desy.de/projects/B2/repos/software/browse/decfiles/dec\n",
    "\n",
    "The name of the file is given by the EventType (https://confluence.desy.de/display/BI/Physics+EventType), which is a bitset to uniquely determine a decay chain. Try to figure out the correct one and define a variable called decfile that points to the correct file in decfiles/dec.\n",
    "\n",
    "The \"generic\" B decay file can be found here:\n",
    "https://stash.desy.de/projects/B2/repos/software/browse/decfiles/dec/DECAY_BELLE2.DEC\n",
    "    \n"
   ]
  },
  {
   "cell_type": "code",
   "execution_count": 5,
   "metadata": {},
   "outputs": [
    {
     "data": {
      "text/plain": [
       "'/gpfs/home/belle2/djaffe/SKW/b2starter-june19/111002000.dec'"
      ]
     },
     "execution_count": 5,
     "metadata": {},
     "output_type": "execute_result"
    }
   ],
   "source": [
    "decfn = '111002000.dec'\n",
    "b2.find_file(decfn)"
   ]
  },
  {
   "cell_type": "code",
   "execution_count": 6,
   "metadata": {},
   "outputs": [
    {
     "name": "stdout",
     "output_type": "stream",
     "text": [
      "\n",
      "===============\n",
      "  EvtGenInput\n",
      "===============\n",
      "Description: EvtGenInput module. The module is served as an interface for EvtGen Event Generator so that the EvtGen generator can store the generated particles into MCParticles. The users need to provide their own decay mode based on the standard DECAY.DEC.\n",
      "Package:     generators\n",
      "--------------------------------------------------------------------------------------------------------------------------------------------------------------------------------\n",
      "Parameter         Type Default              Current                   Steering Description\n",
      "--------------------------------------------------------------------------------------------------------------------------------------------------------------------------------\n",
      "DECFile           str  /cvmfs/belle.cern.ch /cvmfs/belle.cern.ch/sl6/ False    global DECfile to be used\n",
      "                       /sl6/releases/releas releases/release-03-01-04          \n",
      "                       e-03-01-04/generator /generators/evtgen/decayf          \n",
      "                       s/evtgen/decayfiles/ iles/DECAY_BELLE2.DEC              \n",
      "                       DECAY_BELLE2.DEC                                        \n",
      "InclusiveParticle str                                                 False    Inclusive Particle Name\n",
      "InclusiveType     int  0                    0                         False    inclusive decay type (0: generic, 1: inclusive, 2: inclusive (charge conjugate)\n",
      "ParentParticle    str  Upsilon(4S)          Upsilon(4S)               False    Parent Particle Name\n",
      "maxTries          int  100000               100000                    False    Number of tries to generate a parent particle from the beam energies which fits inside the mass\n",
      "                                                                               window before giving up\n",
      "userDECFile       str                       /gpfs/home/belle2/djaffe/ True     user DECfile name\n",
      "                                            SKW/b2starter-                     \n",
      "                                            june19/111002000.dec               \n",
      "\n"
     ]
    }
   ],
   "source": [
    "# Add the generator for B0 -> K+ pi-\n",
    "generator = path.add_module(\"EvtGenInput\", userDECFile=b2.find_file(decfn))\n",
    "b2.print_params(generator)"
   ]
  },
  {
   "cell_type": "markdown",
   "metadata": {},
   "source": [
    "After generating, the particle's interaction with the detector needs to be simulated. These interactions are then reconstructed to clusters and tracks. \n",
    "Rather than add all of the modules needed for generation, simulation, and reconstruction, we can use the helper functions defined in the software. Try to figure out how to add the simulation and reconstruction modules to your path. Make sure to add the background files to the simulation."
   ]
  },
  {
   "cell_type": "code",
   "execution_count": 7,
   "metadata": {},
   "outputs": [
    {
     "name": "stdout",
     "output_type": "stream",
     "text": [
      "Welcome to JupyROOT 6.14/06\n"
     ]
    }
   ],
   "source": [
    "# Add the simulation modules\n",
    "from simulation import add_simulation\n",
    "add_simulation(path,bkgfiles=bkg)\n",
    "\n",
    "\n",
    "# Add the reconstruction modules\n",
    "from reconstruction import add_reconstruction\n",
    "add_reconstruction(path)"
   ]
  },
  {
   "cell_type": "markdown",
   "metadata": {},
   "source": [
    "## 4. Write out the results to mDST format\n",
    "\n",
    "Now all of the reconstructed dataobjects will be stored in the EventStore. We need to write them to file, but we only want to keep the useful information (mDST). Name the output file BdKpi_rec.root.\n",
    "\n",
    "Finally, we need to tell basf2 to process everything in our path."
   ]
  },
  {
   "cell_type": "code",
   "execution_count": 8,
   "metadata": {},
   "outputs": [
    {
     "data": {
      "application/vnd.jupyter.widget-view+json": {
       "model_id": "7c1140a2f8494e7e9208cf9a9a0e2c03",
       "version_major": 2,
       "version_minor": 0
      },
      "text/plain": [
       "VBox(children=(FloatProgress(value=0.0, layout=Layout(height='40px', width='100%'), max=1.0), Label(value=''))…"
      ]
     },
     "metadata": {},
     "output_type": "display_data"
    },
    {
     "data": {
      "application/vnd.jupyter.widget-view+json": {
       "model_id": "a249ad53b9924cc5a02163bd4354fcde",
       "version_major": 2,
       "version_minor": 0
      },
      "text/plain": [
       "VBox(children=(HBox(children=(HTML(value='<a onclick=\"$(\\'.log-line-debug\\').hide();\\n                        …"
      ]
     },
     "metadata": {},
     "output_type": "display_data"
    },
    {
     "name": "stdout",
     "output_type": "stream",
     "text": [
      "\u001b[31m[ERROR] ProcessStatistics data object is not available, you either disabled statistics with --no-stats or didn't run process(path) yet.\n",
      "\u001b[m\n"
     ]
    }
   ],
   "source": [
    "# Write out the results in MDST format\n",
    "from reconstruction import add_mdst_output\n",
    "# Case 1.\n",
    "add_mdst_output(path, filename='B0toKpi.mdst.root')\n",
    "# Case 2.\n",
    "#path.add_module('RootOutput', outputFileName='full_output.root')\n",
    "\n",
    "# Process all modules added to mypath\n",
    "b2.process(path)\n",
    "\n",
    "\n",
    "\n"
   ]
  },
  {
   "cell_type": "code",
   "execution_count": 18,
   "metadata": {},
   "outputs": [],
   "source": [
    "# print stats\n",
    "stats = b2.statistics"
   ]
  },
  {
   "cell_type": "code",
   "execution_count": 21,
   "metadata": {},
   "outputs": [
    {
     "name": "stdout",
     "output_type": "stream",
     "text": [
      "\n"
     ]
    },
    {
     "data": {
      "text/plain": [
       "<pybasf2.ProcessStatistics at 0x7ff4c8096490>"
      ]
     },
     "execution_count": 21,
     "metadata": {},
     "output_type": "execute_result"
    }
   ],
   "source": [
    "print(stats)\n",
    "stats"
   ]
  },
  {
   "cell_type": "code",
   "execution_count": 20,
   "metadata": {},
   "outputs": [
    {
     "name": "stdout",
     "output_type": "stream",
     "text": [
      "Done Done Done\n"
     ]
    }
   ],
   "source": [
    "# print out the summary\n",
    "print('Done Done Done')"
   ]
  },
  {
   "cell_type": "markdown",
   "metadata": {},
   "source": [
    "The output of reconstruction can now be used to fill particle lists, create candidates and take a look at all kinds of variables."
   ]
  }
 ],
 "metadata": {
  "kernelspec": {
   "display_name": "Python 3 (Belle2)",
   "language": "python",
   "name": "python3"
  },
  "language_info": {
   "codemirror_mode": {
    "name": "ipython",
    "version": 3
   },
   "file_extension": ".py",
   "mimetype": "text/x-python",
   "name": "python",
   "nbconvert_exporter": "python",
   "pygments_lexer": "ipython3",
   "version": "3.6.6"
  }
 },
 "nbformat": 4,
 "nbformat_minor": 2
}
