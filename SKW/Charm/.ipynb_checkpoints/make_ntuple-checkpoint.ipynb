{
 "cells": [
  {
   "cell_type": "markdown",
   "metadata": {},
   "source": [
    "# Analysis of $D^{*+}\\rightarrow D^{0}\\pi^+, D^0\\rightarrow K^{0}_s \\pi^+\\pi^{-}\\pi^0$ "
   ]
  },
  {
   "cell_type": "markdown",
   "metadata": {},
   "source": [
    "## 1. Getting ready\n",
    "\n",
    "Start by creating a path and reading in an mDST file from the MC12 \"mixed\" sample. The samples downloaded to KEKCC are noted in https://agira.desy.de/browse/BIIDP-1226."
   ]
  },
  {
   "cell_type": "code",
   "execution_count": 1,
   "metadata": {},
   "outputs": [
    {
     "name": "stdout",
     "output_type": "stream",
     "text": [
      "Welcome to JupyROOT 6.14/06\n",
      "Use input signal file  DstartoD0pi_D0toKspipipi0.mdst.root\n"
     ]
    }
   ],
   "source": [
    "# I'll help you out with the first few lines. We need to import the helper functions we want to use.\n",
    "import basf2 as b2\n",
    "import modularAnalysis as ma\n",
    "\n",
    "# Define the path\n",
    "path = b2.create_path()\n",
    "\n",
    "mixed = False\n",
    "# Define input file(s)\n",
    "if mixed:\n",
    "    #fns = '/ghi/fs01/belle/MC/release-03-01-00/DB00000547/MC12b/prod00007797/s00/e1003/4S/r00000/mixed/mdst/sub00'\n",
    "    fns = '/ghi/fs01/belle2/bdata/MC/release-03-01-00/DB00000547/MC12b/prod00007392/s00/e1003/4S/r00000/mixed/mdst/sub00/'\n",
    "    import glob\n",
    "    inputfn = glob.glob(fns+'/*0183.*')\n",
    "    print('Use input mixed files ',*inputfn)\n",
    "else:\n",
    "    inputfn = ['DstartoD0pi_D0toKspipipi0.mdst.root']\n",
    "    print('Use input signal file ',*inputfn)\n",
    "\n",
    "ma.inputMdstList('default',inputfn,path=path)\n"
   ]
  },
  {
   "cell_type": "markdown",
   "metadata": {},
   "source": [
    "## 2. Reconstruct final state particles\n",
    "\n",
    "Now we can start by creating ParticleLists for the final state particles (FSP). In this case we only need kaon and pion lists. We can either use the standard ParticleLists (see https://software.belle2.org/sphinx/release-03-01-04/analysis/doc/StandardParticles.html?highlight=stdcharged) or define our own criteria."
   ]
  },
  {
   "cell_type": "code",
   "execution_count": 2,
   "metadata": {},
   "outputs": [],
   "source": [
    "# Fill the kaon and pion particle lists\n",
    "import stdCharged, stdV0s, stdPhotons\n",
    "stdCharged.stdPi(\"higheff\",path=path)\n",
    "stdCharged.stdK(\"higheff\",path=path)\n",
    "stdV0s.stdKshorts(path=path)#makes ‘K_S0:all’\n",
    "stdPhotons.stdPhotons('pi0', path=path) # ‘gamma:pi0’ gamma list for pi0 list\n",
    "# defining some track quality cuts\n",
    "\n",
    "# Now fill the particle lists and apply the cut/requirement\n"
   ]
  },
  {
   "cell_type": "markdown",
   "metadata": {},
   "source": [
    "## 3. Reconstruct the $\\pi^0$, $K_S^0$, $D^0$, $D^{*}$\n",
    "\n",
    "Now we can combine the Particles in our kaon and pion ParticleLists to build the composite ParticleList. We can immediatly impose some requirements on the $B^0$ or apply cuts later on."
   ]
  },
  {
   "cell_type": "code",
   "execution_count": 3,
   "metadata": {},
   "outputs": [],
   "source": [
    "#!b2help-particles D*+\n",
    "#!b2help-particles D0"
   ]
  },
  {
   "cell_type": "code",
   "execution_count": 4,
   "metadata": {},
   "outputs": [
    {
     "name": "stdout",
     "output_type": "stream",
     "text": [
      "[INFO] Creating particle lists pi+:evtshape and gamma:evtshape to get the event shape variables.\n",
      "\u001b[m[INFO] Using the default lists for the EventShape module.\n",
      "\u001b[m"
     ]
    }
   ],
   "source": [
    "# Define decay string\n",
    "ma.reconstructDecay('pi0:gg -> gamma:pi0 gamma:pi0','0.13 < M < 0.16',path=path)\n",
    "ma.reconstructDecay('D0:K2ppz -> K_S0:all pi+:higheff pi-:higheff pi0:gg','1.75 < M < 1.95',path=path)\n",
    "ma.reconstructDecay('D*+:Dpi -> D0:K2ppz pi+:higheff','massDifference(0)<0.16',path=path)\n",
    "\n",
    "ma.vertexTree('D*+:Dpi',-9999.,path=path)\n",
    "ma.buildEventShape(path=path)\n",
    "#from Analysis import ParticlePrinter"
   ]
  },
  {
   "cell_type": "markdown",
   "metadata": {},
   "source": [
    "In principle you could fill all kinds of particleLists like this (they could stay empty if no candidates match your requirements). The idea however is always to start from the FSPs and step by step reconstruct their mothers (e.g. a $D^0$ from $K^+$ and $\\pi^-$)"
   ]
  },
  {
   "cell_type": "markdown",
   "metadata": {},
   "source": [
    "## 5. Do MC matching (if MC)\n",
    "\n",
    "If we are using MC, it is helpful to known whether the events we are using are true signal events or part of the background (either actual background like qqbar events or misreconstructed)."
   ]
  },
  {
   "cell_type": "code",
   "execution_count": 5,
   "metadata": {},
   "outputs": [],
   "source": [
    "# Do MC matching \n",
    "ma.matchMCTruth('D*+:Dpi',path=path)"
   ]
  },
  {
   "cell_type": "markdown",
   "metadata": {},
   "source": [
    "## 6. Write out useful information\n",
    "\n",
    "Now we have built our candidates for $B^{0}\\rightarrow K^{+}\\pi^{-}$, so we should write out ntuple files that contain the appropriate information,i.e. variables, to finish the offline analysis.\n",
    "\n",
    "\n",
    "- write out the PID, invariant mass, and MC truth information for each of the final state particles. \n",
    "- also write out the beam constrained mass \"Mbc\", energy difference \"deltaE\" and MC truth information for the $B^0$. ... and whatever variables you want to take a look at"
   ]
  },
  {
   "cell_type": "code",
   "execution_count": 6,
   "metadata": {},
   "outputs": [],
   "source": [
    "def defineAlias(name,definition):\n",
    "    ''' create alias name for variable definition and return name'''\n",
    "    import variables\n",
    "    variables.variables.addAlias(name,definition)\n",
    "    return name"
   ]
  },
  {
   "cell_type": "code",
   "execution_count": 7,
   "metadata": {},
   "outputs": [],
   "source": [
    "# Define the variables we want to include for the final state particles in a list\n",
    "varA = []\n",
    "varA.append( defineAlias('pCM','useCMSFrame(p)'))\n",
    "varA.append( defineAlias('ECM','useCMSFrame(E)'))\n",
    "varA.append( defineAlias('qslowpi','daughter(1,charge)'))\n",
    "varA.append( defineAlias('D0M','daughter(0,M)'))\n",
    "varA.append( defineAlias('KsM','daughter(0,daughter(0,M))'))\n",
    "varA.append( defineAlias('PzM','daughter(0,daughter(3,M))'))\n",
    "varA.append( defineAlias('Pzp','daughter(0,daughter(3,p))'))\n",
    "varA.append( defineAlias('PzMatch','daughter(0,daughter(3,isSignal))'))\n",
    "varA.append( defineAlias('PpMatch','daughter(0,daughter(1,isSignal))'))\n",
    "varA.append( defineAlias('PmMatch','daughter(0,daughter(2,isSignal))'))\n",
    "varA.append( defineAlias('KsMatch','daughter(0,daughter(0,isSignal))'))\n",
    "varA.append( defineAlias('g1Match','daughter(0,daughter(3,daughter(0,isSignal)))'))\n",
    "varA.append( defineAlias('g2Match','daughter(0,daughter(3,daughter(1,isSignal)))'))\n",
    "varA.append( defineAlias('g1E','daughter(0,daughter(3,daughter(0,E)))'))\n",
    "varA.append( defineAlias('g2E','daughter(0,daughter(3,daughter(1,E)))'))\n",
    "varA.append( defineAlias('D0Match','daughter(0,isSignal)'))\n",
    "varA.append( defineAlias('slowpiMatch','daughter(1,isSignal)'))\n",
    "#allVars = variables.getVariables()\n",
    "#vars = []\n",
    "#for v in allVars:\n",
    "#    vars.append((v.group, v.name, v.description))\n",
    "#    if 'KsM' in v.name: print(v.group,v.name)\n",
    "# Define the variables we want to include for the B0 candidates\n",
    "\n",
    "\n"
   ]
  },
  {
   "cell_type": "markdown",
   "metadata": {},
   "source": [
    "Now use the variablesToNtuple method in modularAnalysis to write out the ntuple file. Call it \"BdKpi_ntuple.root\"."
   ]
  },
  {
   "cell_type": "code",
   "execution_count": 8,
   "metadata": {},
   "outputs": [],
   "source": [
    "# use predefined collections\n",
    "from variables import collections as varcoll"
   ]
  },
  {
   "cell_type": "code",
   "execution_count": 9,
   "metadata": {},
   "outputs": [
    {
     "name": "stdout",
     "output_type": "stream",
     "text": [
      "Output root file is ntuple.DstartoD0pi_D0toKspipipi0_signal.root\n"
     ]
    }
   ],
   "source": [
    "# Write variables to an ntuple file\n",
    "if mixed:\n",
    "    filename = 'ntuple.B0Kpi.root'\n",
    "else:\n",
    "    filename = 'ntuple.DstartoD0pi_D0toKspipipi0_signal.root'\n",
    "listOfVar = varcoll.inv_mass                \n",
    "listOfVar += varcoll.flight_info\n",
    "listOfVar += varcoll.mc_flight_info\n",
    "listOfVar += varcoll.vertex\n",
    "listOfVar += varcoll.kinematics\n",
    "listOfVar += varA\n",
    "listOfVar += ['isSignal', 'mcErrors', 'M','pCM','ECM','Q','dQ','chiProb']\n",
    "ma.variablesToNtuple('D*+:Dpi', listOfVar, filename=filename, treename=\"Dst\", path=path)\n",
    "print('Output root file is',filename)"
   ]
  },
  {
   "cell_type": "markdown",
   "metadata": {},
   "source": [
    "## 7. Process the path\n",
    "\n",
    "So far, we have just added modules to our path (with the help of nifty helper functions). Now we need to actually run the modules and create our output script.\n",
    "\n",
    "The file we are using is quite large. To reduce our waiting time, we can restrict ourselves to 10k events. Execute the following block without modification to find out how to do this. Then modify the block to actually process the path."
   ]
  },
  {
   "cell_type": "code",
   "execution_count": 10,
   "metadata": {
    "scrolled": true
   },
   "outputs": [
    {
     "data": {
      "application/vnd.jupyter.widget-view+json": {
       "model_id": "f353f4b5f1f24424b7ea6e35fdc8ab7e",
       "version_major": 2,
       "version_minor": 0
      },
      "text/plain": [
       "VBox(children=(FloatProgress(value=0.0, layout=Layout(height='40px', width='100%'), max=1.0), Label(value=''))…"
      ]
     },
     "metadata": {},
     "output_type": "display_data"
    },
    {
     "data": {
      "application/vnd.jupyter.widget-view+json": {
       "model_id": "f07dc3ec97494e01860ef12ed850c778",
       "version_major": 2,
       "version_minor": 0
      },
      "text/plain": [
       "VBox(children=(HBox(children=(HTML(value='<a onclick=\"$(\\'.log-line-debug\\').hide();\\n                        …"
      ]
     },
     "metadata": {},
     "output_type": "display_data"
    },
    {
     "data": {
      "text/plain": [
       "<hep_ipython_tools.ipython_handler_basf2.calculation.Basf2Calculation at 0x7f44bd4eb2e8>"
      ]
     },
     "execution_count": 10,
     "metadata": {},
     "output_type": "execute_result"
    }
   ],
   "source": [
    "# Process the path\n",
    "b2.process(path=path)"
   ]
  },
  {
   "cell_type": "markdown",
   "metadata": {},
   "source": [
    "If you did everything correctly, a new file called BdKpi_ntuple.root will show up in your working area. The next step is to produce some interesting plots. Once the processing is done, move on to b2starter-june19-plotting.py to explore some plotting techniques. You can also repeat this exercise using the signal MC you generated in the first tutorial. Make sure to change the output name so you don't overwrite your work."
   ]
  },
  {
   "cell_type": "code",
   "execution_count": 11,
   "metadata": {},
   "outputs": [
    {
     "name": "stdout",
     "output_type": "stream",
     "text": [
      "\u001b[31m[ERROR] ProcessStatistics data object is not available, you either disabled statistics with --no-stats or didn't run process(path) yet.\n",
      "\u001b[m\n"
     ]
    }
   ],
   "source": [
    "print(b2.statistics)\n"
   ]
  },
  {
   "cell_type": "code",
   "execution_count": 12,
   "metadata": {},
   "outputs": [
    {
     "name": "stdout",
     "output_type": "stream",
     "text": [
      "filename is ntuple.DstartoD0pi_D0toKspipipi0_signal.root\n"
     ]
    },
    {
     "data": {
      "text/plain": [
       "Index(['__experiment__', '__run__', '__event__', '__candidate__',\n",
       "       '__ncandidates__', '__weight__', 'M', 'ErrM', 'SigM', 'InvM',\n",
       "       'flightTime', 'flightDistance', 'flightTimeErr', 'flightDistanceErr',\n",
       "       'mc_flightTime', 'mc_flightDistance', 'mc_flightTimeErr',\n",
       "       'mc_flightDistanceErr', 'distance', 'significanceOfDistance', 'dx',\n",
       "       'dy', 'dz', 'x', 'y', 'z', 'x_uncertainty', 'y_uncertainty',\n",
       "       'z_uncertainty', 'dr', 'dphi', 'dcosTheta', 'prodVertexX',\n",
       "       'prodVertexY', 'prodVertexZ', 'prodVertexXErr', 'prodVertexYErr',\n",
       "       'prodVertexZErr', 'pValue', 'px', 'py', 'pz', 'pt', 'p', 'E', 'pCM',\n",
       "       'ECM', 'qslowpi', 'D0M', 'KsM', 'PzM', 'Pzp', 'PzMatch', 'PpMatch',\n",
       "       'PmMatch', 'KsMatch', 'g1Match', 'g2Match', 'g1E', 'g2E', 'D0Match',\n",
       "       'slowpiMatch', 'isSignal', 'mcErrors', 'Q', 'dQ', 'chiProb'],\n",
       "      dtype='object')"
      ]
     },
     "execution_count": 12,
     "metadata": {},
     "output_type": "execute_result"
    }
   ],
   "source": [
    "%matplotlib inline\n",
    "import root_pandas\n",
    "print('filename is',filename)\n",
    "Dst = root_pandas.read_root(filename, key='Dst')\n",
    "Dst.columns\n"
   ]
  },
  {
   "cell_type": "code",
   "execution_count": 24,
   "metadata": {},
   "outputs": [
    {
     "data": {
      "text/html": [
       "<div>\n",
       "<style scoped>\n",
       "    .dataframe tbody tr th:only-of-type {\n",
       "        vertical-align: middle;\n",
       "    }\n",
       "\n",
       "    .dataframe tbody tr th {\n",
       "        vertical-align: top;\n",
       "    }\n",
       "\n",
       "    .dataframe thead th {\n",
       "        text-align: right;\n",
       "    }\n",
       "</style>\n",
       "<table border=\"1\" class=\"dataframe\">\n",
       "  <thead>\n",
       "    <tr style=\"text-align: right;\">\n",
       "      <th></th>\n",
       "      <th>mcErrors</th>\n",
       "      <th>pValue</th>\n",
       "      <th>ErrM</th>\n",
       "      <th>chiProb</th>\n",
       "    </tr>\n",
       "  </thead>\n",
       "  <tbody>\n",
       "    <tr>\n",
       "      <th>count</th>\n",
       "      <td>831.000000</td>\n",
       "      <td>831.0</td>\n",
       "      <td>831.000000</td>\n",
       "      <td>831.000000</td>\n",
       "    </tr>\n",
       "    <tr>\n",
       "      <th>mean</th>\n",
       "      <td>540.974729</td>\n",
       "      <td>0.0</td>\n",
       "      <td>0.001969</td>\n",
       "      <td>-0.640105</td>\n",
       "    </tr>\n",
       "    <tr>\n",
       "      <th>std</th>\n",
       "      <td>186.038312</td>\n",
       "      <td>0.0</td>\n",
       "      <td>0.001165</td>\n",
       "      <td>0.666373</td>\n",
       "    </tr>\n",
       "    <tr>\n",
       "      <th>min</th>\n",
       "      <td>306.000000</td>\n",
       "      <td>0.0</td>\n",
       "      <td>0.000146</td>\n",
       "      <td>-1.000000</td>\n",
       "    </tr>\n",
       "    <tr>\n",
       "      <th>25%</th>\n",
       "      <td>512.000000</td>\n",
       "      <td>0.0</td>\n",
       "      <td>0.001215</td>\n",
       "      <td>-1.000000</td>\n",
       "    </tr>\n",
       "    <tr>\n",
       "      <th>50%</th>\n",
       "      <td>512.000000</td>\n",
       "      <td>0.0</td>\n",
       "      <td>0.001775</td>\n",
       "      <td>-1.000000</td>\n",
       "    </tr>\n",
       "    <tr>\n",
       "      <th>75%</th>\n",
       "      <td>512.000000</td>\n",
       "      <td>0.0</td>\n",
       "      <td>0.002369</td>\n",
       "      <td>-1.000000</td>\n",
       "    </tr>\n",
       "    <tr>\n",
       "      <th>max</th>\n",
       "      <td>1530.000000</td>\n",
       "      <td>0.0</td>\n",
       "      <td>0.005865</td>\n",
       "      <td>0.999907</td>\n",
       "    </tr>\n",
       "  </tbody>\n",
       "</table>\n",
       "</div>"
      ],
      "text/plain": [
       "          mcErrors  pValue        ErrM     chiProb\n",
       "count   831.000000   831.0  831.000000  831.000000\n",
       "mean    540.974729     0.0    0.001969   -0.640105\n",
       "std     186.038312     0.0    0.001165    0.666373\n",
       "min     306.000000     0.0    0.000146   -1.000000\n",
       "25%     512.000000     0.0    0.001215   -1.000000\n",
       "50%     512.000000     0.0    0.001775   -1.000000\n",
       "75%     512.000000     0.0    0.002369   -1.000000\n",
       "max    1530.000000     0.0    0.005865    0.999907"
      ]
     },
     "execution_count": 24,
     "metadata": {},
     "output_type": "execute_result"
    }
   ],
   "source": [
    "Dst[['mcErrors','pValue','ErrM','chiProb']].describe()"
   ]
  },
  {
   "cell_type": "code",
   "execution_count": 14,
   "metadata": {},
   "outputs": [],
   "source": [
    "matchSet = Dst[['isSignal','D0Match','slowpiMatch','KsMatch','PpMatch','PmMatch','PzMatch','g1Match','g2Match','g1E','g2E']]"
   ]
  },
  {
   "cell_type": "code",
   "execution_count": 15,
   "metadata": {},
   "outputs": [
    {
     "data": {
      "text/html": [
       "<div>\n",
       "<style scoped>\n",
       "    .dataframe tbody tr th:only-of-type {\n",
       "        vertical-align: middle;\n",
       "    }\n",
       "\n",
       "    .dataframe tbody tr th {\n",
       "        vertical-align: top;\n",
       "    }\n",
       "\n",
       "    .dataframe thead th {\n",
       "        text-align: right;\n",
       "    }\n",
       "</style>\n",
       "<table border=\"1\" class=\"dataframe\">\n",
       "  <thead>\n",
       "    <tr style=\"text-align: right;\">\n",
       "      <th></th>\n",
       "      <th>isSignal</th>\n",
       "      <th>D0Match</th>\n",
       "      <th>slowpiMatch</th>\n",
       "      <th>KsMatch</th>\n",
       "      <th>PpMatch</th>\n",
       "      <th>PmMatch</th>\n",
       "      <th>PzMatch</th>\n",
       "      <th>g1Match</th>\n",
       "      <th>g2Match</th>\n",
       "      <th>g1E</th>\n",
       "      <th>g2E</th>\n",
       "    </tr>\n",
       "  </thead>\n",
       "  <tbody>\n",
       "    <tr>\n",
       "      <th>count</th>\n",
       "      <td>831.0</td>\n",
       "      <td>831.0</td>\n",
       "      <td>831.000000</td>\n",
       "      <td>831.000000</td>\n",
       "      <td>831.0</td>\n",
       "      <td>831.000000</td>\n",
       "      <td>831.000000</td>\n",
       "      <td>831.000000</td>\n",
       "      <td>831.000000</td>\n",
       "      <td>831.000000</td>\n",
       "      <td>831.000000</td>\n",
       "    </tr>\n",
       "    <tr>\n",
       "      <th>mean</th>\n",
       "      <td>0.0</td>\n",
       "      <td>0.0</td>\n",
       "      <td>0.471721</td>\n",
       "      <td>0.663057</td>\n",
       "      <td>1.0</td>\n",
       "      <td>0.991576</td>\n",
       "      <td>0.019254</td>\n",
       "      <td>0.321300</td>\n",
       "      <td>0.622142</td>\n",
       "      <td>0.106937</td>\n",
       "      <td>0.202803</td>\n",
       "    </tr>\n",
       "    <tr>\n",
       "      <th>std</th>\n",
       "      <td>0.0</td>\n",
       "      <td>0.0</td>\n",
       "      <td>0.499500</td>\n",
       "      <td>0.472950</td>\n",
       "      <td>0.0</td>\n",
       "      <td>0.091448</td>\n",
       "      <td>0.137499</td>\n",
       "      <td>0.467257</td>\n",
       "      <td>0.485144</td>\n",
       "      <td>0.111963</td>\n",
       "      <td>0.134136</td>\n",
       "    </tr>\n",
       "    <tr>\n",
       "      <th>min</th>\n",
       "      <td>0.0</td>\n",
       "      <td>0.0</td>\n",
       "      <td>0.000000</td>\n",
       "      <td>0.000000</td>\n",
       "      <td>1.0</td>\n",
       "      <td>0.000000</td>\n",
       "      <td>0.000000</td>\n",
       "      <td>0.000000</td>\n",
       "      <td>0.000000</td>\n",
       "      <td>0.020091</td>\n",
       "      <td>0.020561</td>\n",
       "    </tr>\n",
       "    <tr>\n",
       "      <th>25%</th>\n",
       "      <td>0.0</td>\n",
       "      <td>0.0</td>\n",
       "      <td>0.000000</td>\n",
       "      <td>0.000000</td>\n",
       "      <td>1.0</td>\n",
       "      <td>1.000000</td>\n",
       "      <td>0.000000</td>\n",
       "      <td>0.000000</td>\n",
       "      <td>0.000000</td>\n",
       "      <td>0.024238</td>\n",
       "      <td>0.047508</td>\n",
       "    </tr>\n",
       "    <tr>\n",
       "      <th>50%</th>\n",
       "      <td>0.0</td>\n",
       "      <td>0.0</td>\n",
       "      <td>0.000000</td>\n",
       "      <td>1.000000</td>\n",
       "      <td>1.0</td>\n",
       "      <td>1.000000</td>\n",
       "      <td>0.000000</td>\n",
       "      <td>0.000000</td>\n",
       "      <td>1.000000</td>\n",
       "      <td>0.038519</td>\n",
       "      <td>0.202247</td>\n",
       "    </tr>\n",
       "    <tr>\n",
       "      <th>75%</th>\n",
       "      <td>0.0</td>\n",
       "      <td>0.0</td>\n",
       "      <td>1.000000</td>\n",
       "      <td>1.000000</td>\n",
       "      <td>1.0</td>\n",
       "      <td>1.000000</td>\n",
       "      <td>0.000000</td>\n",
       "      <td>1.000000</td>\n",
       "      <td>1.000000</td>\n",
       "      <td>0.202624</td>\n",
       "      <td>0.310309</td>\n",
       "    </tr>\n",
       "    <tr>\n",
       "      <th>max</th>\n",
       "      <td>0.0</td>\n",
       "      <td>0.0</td>\n",
       "      <td>1.000000</td>\n",
       "      <td>1.000000</td>\n",
       "      <td>1.0</td>\n",
       "      <td>1.000000</td>\n",
       "      <td>1.000000</td>\n",
       "      <td>1.000000</td>\n",
       "      <td>1.000000</td>\n",
       "      <td>0.510750</td>\n",
       "      <td>0.452085</td>\n",
       "    </tr>\n",
       "  </tbody>\n",
       "</table>\n",
       "</div>"
      ],
      "text/plain": [
       "       isSignal  D0Match  slowpiMatch     KsMatch  PpMatch     PmMatch  \\\n",
       "count     831.0    831.0   831.000000  831.000000    831.0  831.000000   \n",
       "mean        0.0      0.0     0.471721    0.663057      1.0    0.991576   \n",
       "std         0.0      0.0     0.499500    0.472950      0.0    0.091448   \n",
       "min         0.0      0.0     0.000000    0.000000      1.0    0.000000   \n",
       "25%         0.0      0.0     0.000000    0.000000      1.0    1.000000   \n",
       "50%         0.0      0.0     0.000000    1.000000      1.0    1.000000   \n",
       "75%         0.0      0.0     1.000000    1.000000      1.0    1.000000   \n",
       "max         0.0      0.0     1.000000    1.000000      1.0    1.000000   \n",
       "\n",
       "          PzMatch     g1Match     g2Match         g1E         g2E  \n",
       "count  831.000000  831.000000  831.000000  831.000000  831.000000  \n",
       "mean     0.019254    0.321300    0.622142    0.106937    0.202803  \n",
       "std      0.137499    0.467257    0.485144    0.111963    0.134136  \n",
       "min      0.000000    0.000000    0.000000    0.020091    0.020561  \n",
       "25%      0.000000    0.000000    0.000000    0.024238    0.047508  \n",
       "50%      0.000000    0.000000    1.000000    0.038519    0.202247  \n",
       "75%      0.000000    1.000000    1.000000    0.202624    0.310309  \n",
       "max      1.000000    1.000000    1.000000    0.510750    0.452085  "
      ]
     },
     "execution_count": 15,
     "metadata": {},
     "output_type": "execute_result"
    }
   ],
   "source": [
    "matchSet.describe()"
   ]
  },
  {
   "cell_type": "code",
   "execution_count": null,
   "metadata": {},
   "outputs": [],
   "source": []
  },
  {
   "cell_type": "code",
   "execution_count": 16,
   "metadata": {},
   "outputs": [
    {
     "data": {
      "text/plain": [
       "<matplotlib.axes._subplots.AxesSubplot at 0x7f452b3244e0>"
      ]
     },
     "execution_count": 16,
     "metadata": {},
     "output_type": "execute_result"
    },
    {
     "data": {
      "image/png": "[encoded data removed]",
      "text/plain": [
       "<Figure size 432x288 with 1 Axes>"
      ]
     },
     "metadata": {
      "needs_background": "light"
     },
     "output_type": "display_data"
    }
   ],
   "source": [
    "Dst.hist(column='D0M',log=True,by='D0Match')#,bins=16,range=(0.,0.16))"
   ]
  },
  {
   "cell_type": "code",
   "execution_count": 17,
   "metadata": {},
   "outputs": [
    {
     "data": {
      "text/plain": [
       "<matplotlib.colorbar.Colorbar at 0x7f452a719128>"
      ]
     },
     "execution_count": 17,
     "metadata": {},
     "output_type": "execute_result"
    },
    {
     "data": {
      "image/png": "[encoded data removed]",
      "text/plain": [
       "<Figure size 432x288 with 2 Axes>"
      ]
     },
     "metadata": {
      "needs_background": "light"
     },
     "output_type": "display_data"
    }
   ],
   "source": [
    "#hist2d(data.p[isPion], data.pionID[isPion], bins=(50,100), range=([0,3],[-0.1, 1.1]), norm=LogNorm())\n",
    "import matplotlib.pyplot as plt\n",
    "h=plt.hist2d(Dst.g1Match,Dst.g2Match,bins=(2,2),range=([0,1],[0,1]))#,xlabel='gamma1 matched',ylabel='gamma2 matched')      \n",
    "#xlabel('gamma1 matched')\n",
    "#ylabel('gamma2 matched')\n",
    "plt.colorbar(h[3])\n"
   ]
  },
  {
   "cell_type": "code",
   "execution_count": 18,
   "metadata": {},
   "outputs": [
    {
     "data": {
      "text/plain": [
       "(array([[  0.,   3.,  25.,  70.,  79., 111.,  37.,  85.,   3.,  94.],\n",
       "        [  2.,   1.,  13.,  10.,   2.,   3.,   1.,   6.,   0.,   0.],\n",
       "        [ 26.,   2.,  12.,   3.,  10.,   4.,   0.,   0.,   0.,   5.],\n",
       "        [ 61.,   1.,   0.,   2.,   0.,   0.,   0.,   3.,   0.,   0.],\n",
       "        [ 35.,   6.,   0.,   3.,   0.,   0.,   0.,   0.,   0.,   0.],\n",
       "        [ 75.,   5.,   2.,   3.,   0.,   0.,   0.,   0.,   0.,   0.],\n",
       "        [  1.,   1.,   0.,   0.,   0.,   0.,   0.,   0.,   0.,   0.],\n",
       "        [  4.,   0.,   0.,   0.,   0.,   0.,   0.,   0.,   0.,   1.],\n",
       "        [ 14.,   5.,   0.,   0.,   0.,   0.,   0.,   0.,   0.,   0.],\n",
       "        [  2.,   0.,   0.,   0.,   0.,   0.,   0.,   0.,   0.,   0.]]),\n",
       " array([0.02009125, 0.06915713, 0.11822301, 0.16728889, 0.21635476,\n",
       "        0.26542064, 0.31448652, 0.3635524 , 0.41261828, 0.46168415,\n",
       "        0.51075003]),\n",
       " array([0.02056143, 0.06371382, 0.10686621, 0.15001861, 0.193171  ,\n",
       "        0.23632339, 0.27947579, 0.32262818, 0.36578057, 0.40893296,\n",
       "        0.45208536]),\n",
       " <matplotlib.collections.QuadMesh at 0x7f44abf75c50>)"
      ]
     },
     "execution_count": 18,
     "metadata": {},
     "output_type": "execute_result"
    },
    {
     "data": {
      "image/png": "[encoded data removed]",
      "text/plain": [
       "<Figure size 432x288 with 1 Axes>"
      ]
     },
     "metadata": {
      "needs_background": "light"
     },
     "output_type": "display_data"
    }
   ],
   "source": [
    "plt.hist2d(Dst.g1E,Dst.g2E)"
   ]
  },
  {
   "cell_type": "code",
   "execution_count": 19,
   "metadata": {},
   "outputs": [
    {
     "data": {
      "text/plain": [
       "(array([109., 167., 161.,  99.,  42.,  28.,  94., 106.,  21.,   4.]),\n",
       " array([-0.43021185, -0.33840834, -0.24660482, -0.15480131, -0.06299779,\n",
       "         0.02880572,  0.12060924,  0.21241275,  0.30421627,  0.39601978,\n",
       "         0.4878233 ]),\n",
       " <a list of 10 Patch objects>)"
      ]
     },
     "execution_count": 19,
     "metadata": {},
     "output_type": "execute_result"
    },
    {
     "data": {
      "image/png": "[encoded data removed]",
      "text/plain": [
       "<Figure size 432x288 with 1 Axes>"
      ]
     },
     "metadata": {
      "needs_background": "light"
     },
     "output_type": "display_data"
    }
   ],
   "source": [
    "plt.hist(Dst.g1E-Dst.g2E)"
   ]
  },
  {
   "cell_type": "code",
   "execution_count": 20,
   "metadata": {},
   "outputs": [
    {
     "data": {
      "text/plain": [
       "array([[<matplotlib.axes._subplots.AxesSubplot object at 0x7f452a677ef0>]],\n",
       "      dtype=object)"
      ]
     },
     "execution_count": 20,
     "metadata": {},
     "output_type": "execute_result"
    },
    {
     "data": {
      "image/png": "[encoded data removed]",
      "text/plain": [
       "<Figure size 432x288 with 1 Axes>"
      ]
     },
     "metadata": {
      "needs_background": "light"
     },
     "output_type": "display_data"
    }
   ],
   "source": [
    "Dst.hist('PzM')"
   ]
  },
  {
   "cell_type": "code",
   "execution_count": 21,
   "metadata": {},
   "outputs": [
    {
     "data": {
      "text/plain": [
       "<matplotlib.axes._subplots.AxesSubplot at 0x7f452a6485c0>"
      ]
     },
     "execution_count": 21,
     "metadata": {},
     "output_type": "execute_result"
    },
    {
     "data": {
      "image/png": "[encoded data removed]",
      "text/plain": [
       "<Figure size 432x288 with 1 Axes>"
      ]
     },
     "metadata": {
      "needs_background": "light"
     },
     "output_type": "display_data"
    }
   ],
   "source": [
    "Dst.plot.scatter('Pzp','PzM')"
   ]
  },
  {
   "cell_type": "code",
   "execution_count": 22,
   "metadata": {},
   "outputs": [
    {
     "data": {
      "text/plain": [
       "array([<matplotlib.axes._subplots.AxesSubplot object at 0x7f452a6efc50>,\n",
       "       <matplotlib.axes._subplots.AxesSubplot object at 0x7f452a58d860>],\n",
       "      dtype=object)"
      ]
     },
     "execution_count": 22,
     "metadata": {},
     "output_type": "execute_result"
    },
    {
     "data": {
      "image/png": "[encoded data removed]",
      "text/plain": [
       "<Figure size 432x288 with 2 Axes>"
      ]
     },
     "metadata": {
      "needs_background": "light"
     },
     "output_type": "display_data"
    }
   ],
   "source": [
    "Dst.hist('PzM',by='PzMatch',bins=20,range=(.13,.16))"
   ]
  },
  {
   "cell_type": "code",
   "execution_count": 23,
   "metadata": {},
   "outputs": [
    {
     "data": {
      "text/plain": [
       "array([<matplotlib.axes._subplots.AxesSubplot object at 0x7f452a4e0cc0>,\n",
       "       <matplotlib.axes._subplots.AxesSubplot object at 0x7f452a49c278>],\n",
       "      dtype=object)"
      ]
     },
     "execution_count": 23,
     "metadata": {},
     "output_type": "execute_result"
    },
    {
     "data": {
      "image/png": "[encoded data removed]",
      "text/plain": [
       "<Figure size 432x288 with 2 Axes>"
      ]
     },
     "metadata": {
      "needs_background": "light"
     },
     "output_type": "display_data"
    }
   ],
   "source": [
    "Dst.hist('KsM',by='KsMatch',bins=20,range=(.46,.54))"
   ]
  },
  {
   "cell_type": "code",
   "execution_count": null,
   "metadata": {},
   "outputs": [],
   "source": []
  }
 ],
 "metadata": {
  "kernelspec": {
   "display_name": "Python 3 (Belle2)",
   "language": "python",
   "name": "python3"
  },
  "language_info": {
   "codemirror_mode": {
    "name": "ipython",
    "version": 3
   },
   "file_extension": ".py",
   "mimetype": "text/x-python",
   "name": "python",
   "nbconvert_exporter": "python",
   "pygments_lexer": "ipython3",
   "version": "3.6.6"
  }
 },
 "nbformat": 4,
 "nbformat_minor": 2
}
