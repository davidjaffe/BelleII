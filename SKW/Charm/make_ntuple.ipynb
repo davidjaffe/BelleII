{
 "cells": [
  {
   "cell_type": "markdown",
   "metadata": {},
   "source": [
    "# Analysis of $D^{*+}\\rightarrow D^{0}\\pi^+, D^0\\rightarrow K^{0}_s \\pi^+\\pi^{-}\\pi^0$ "
   ]
  },
  {
   "cell_type": "markdown",
   "metadata": {},
   "source": [
    "## 1. Getting ready\n",
    "\n",
    "Start by creating a path and reading in an mDST file from the MC12 \"mixed\" sample. The samples downloaded to KEKCC are noted in https://agira.desy.de/browse/BIIDP-1226."
   ]
  },
  {
   "cell_type": "code",
   "execution_count": 1,
   "metadata": {},
   "outputs": [
    {
     "name": "stdout",
     "output_type": "stream",
     "text": [
      "Welcome to JupyROOT 6.14/06\n",
      "Use input signal file  DstartoD0pi_D0toKspipipi0.mdst.root DstartoD0pi_D0toKspipipi0_1000.mdst.root\n"
     ]
    }
   ],
   "source": [
    "# I'll help you out with the first few lines. We need to import the helper functions we want to use.\n",
    "import basf2 as b2\n",
    "import modularAnalysis as ma\n",
    "\n",
    "# Define the path\n",
    "path = b2.create_path()\n",
    "\n",
    "mixed = False\n",
    "# Define input file(s)\n",
    "if mixed:\n",
    "    #fns = '/ghi/fs01/belle/MC/release-03-01-00/DB00000547/MC12b/prod00007797/s00/e1003/4S/r00000/mixed/mdst/sub00'\n",
    "    fns = '/ghi/fs01/belle2/bdata/MC/release-03-01-00/DB00000547/MC12b/prod00007392/s00/e1003/4S/r00000/mixed/mdst/sub00/'\n",
    "    import glob\n",
    "    inputfn = glob.glob(fns+'/*0183.*')\n",
    "    print('Use input mixed files ',*inputfn)\n",
    "else:\n",
    "    inputfn = ['DstartoD0pi_D0toKspipipi0.mdst.root','DstartoD0pi_D0toKspipipi0_1000.mdst.root']\n",
    "    \n",
    "    print('Use input signal file ',*inputfn)\n",
    "\n",
    "generatorOnly = False\n",
    "if generatorOnly:\n",
    "    ma.inputMdstList('default',inputfn,path=path)\n",
    "else:\n",
    "    ma.inputMdstList('default',inputfn,path=path)\n",
    "\n",
    "# try to get MC truth info    \n",
    "#Dstmesons = ('D*+:gen','')\n",
    "#ma.fillParticleListFromMC(Dstmesons, True)\n",
    "#ma.matchMCTruth('D*+:gen')\n",
    "\n",
    "    "
   ]
  },
  {
   "cell_type": "markdown",
   "metadata": {},
   "source": [
    "## 2. Reconstruct final state particles\n",
    "\n",
    "Now we can start by creating ParticleLists for the final state particles (FSP). In this case we only need kaon and pion lists. We can either use the standard ParticleLists (see https://software.belle2.org/sphinx/release-03-01-04/analysis/doc/StandardParticles.html?highlight=stdcharged) or define our own criteria."
   ]
  },
  {
   "cell_type": "code",
   "execution_count": 2,
   "metadata": {},
   "outputs": [],
   "source": [
    "# Fill the kaon and pion particle lists\n",
    "import stdCharged, stdV0s, stdPhotons, stdPi0s\n",
    "stdCharged.stdPi(\"higheff\",path=path)\n",
    "#stdCharged.stdK(\"higheff\",path=path)\n",
    "stdCharged.stdPi(\"loose\",path=path)\n",
    "stdCharged.stdPi(\"all\",path=path)\n",
    "#stdCharged.stdK(\"loose\",path=path)\n",
    "stdV0s.stdKshorts(path=path)#makes ‘K_S0:all’\n",
    "stdPi0s.stdPi0s(\"looseFit\",path=path)\n",
    "#stdPhotons.stdPhotons('pi0', path=path) # ‘gamma:pi0’ gamma list for pi0 list\n",
    "# defining some track quality cuts\n",
    "\n",
    "# Now fill the particle lists and apply the cut/requirement\n"
   ]
  },
  {
   "cell_type": "markdown",
   "metadata": {},
   "source": [
    "## 3. Reconstruct the $\\pi^0$, $K_S^0$, $D^0$, $D^{*}$\n",
    "\n",
    "Now we can combine the Particles in our kaon and pion ParticleLists to build the composite ParticleList. We can immediatly impose some requirements on the $B^0$ or apply cuts later on."
   ]
  },
  {
   "cell_type": "code",
   "execution_count": 3,
   "metadata": {},
   "outputs": [],
   "source": [
    "#!b2help-particles D*+\n",
    "#!b2help-particles D0"
   ]
  },
  {
   "cell_type": "code",
   "execution_count": 4,
   "metadata": {},
   "outputs": [
    {
     "name": "stdout",
     "output_type": "stream",
     "text": [
      "[INFO] Creating particle lists pi+:evtshape and gamma:evtshape to get the event shape variables.\n",
      "\u001b[m[INFO] Using the default lists for the EventShape module.\n",
      "\u001b[m"
     ]
    }
   ],
   "source": [
    "# Define decay string\n",
    "#ma.reconstructDecay('pi0:gg -> gamma:pi0 gamma:pi0','0.13 < M < 0.16',path=path)\n",
    "ma.reconstructDecay('D0:K2ppz -> K_S0:all pi+:loose pi-:loose pi0:looseFit','1.75 < M < 1.95',path=path)\n",
    "ma.reconstructDecay('D*+:Dpi -> D0:K2ppz pi+:all','massDifference(0)<0.16',path=path)\n",
    "\n",
    "ma.vertexTree('D*+:Dpi',-9999.,path=path)\n",
    "ma.buildEventShape(path=path)\n",
    "#from Analysis import ParticlePrinter"
   ]
  },
  {
   "cell_type": "markdown",
   "metadata": {},
   "source": [
    "In principle you could fill all kinds of particleLists like this (they could stay empty if no candidates match your requirements). The idea however is always to start from the FSPs and step by step reconstruct their mothers (e.g. a $D^0$ from $K^+$ and $\\pi^-$)"
   ]
  },
  {
   "cell_type": "markdown",
   "metadata": {},
   "source": [
    "## 5. Do MC matching (if MC)\n",
    "\n",
    "If we are using MC, it is helpful to known whether the events we are using are true signal events or part of the background (either actual background like qqbar events or misreconstructed)."
   ]
  },
  {
   "cell_type": "code",
   "execution_count": 5,
   "metadata": {},
   "outputs": [],
   "source": [
    "# Do MC matching \n",
    "ma.matchMCTruth('D*+:Dpi',path=path)"
   ]
  },
  {
   "cell_type": "markdown",
   "metadata": {},
   "source": [
    "## 6. Write out useful information\n",
    "\n",
    "Now we have built our candidates for $B^{0}\\rightarrow K^{+}\\pi^{-}$, so we should write out ntuple files that contain the appropriate information,i.e. variables, to finish the offline analysis.\n",
    "\n",
    "\n",
    "- write out the PID, invariant mass, and MC truth information for each of the final state particles. \n",
    "- also write out the beam constrained mass \"Mbc\", energy difference \"deltaE\" and MC truth information for the $B^0$. ... and whatever variables you want to take a look at"
   ]
  },
  {
   "cell_type": "code",
   "execution_count": 6,
   "metadata": {},
   "outputs": [],
   "source": [
    "def defineAlias(name,definition):\n",
    "    ''' create alias name for variable definition and return name'''\n",
    "    import variables\n",
    "    variables.variables.addAlias(name,definition)\n",
    "    return name"
   ]
  },
  {
   "cell_type": "code",
   "execution_count": 7,
   "metadata": {},
   "outputs": [],
   "source": [
    "# Define the variables we want to include for the final state particles in a list\n",
    "varA = []\n",
    "varA.append( defineAlias('pCM','useCMSFrame(p)'))\n",
    "varA.append( defineAlias('ECM','useCMSFrame(E)'))\n",
    "varA.append( defineAlias('qslowpi','daughter(1,charge)'))\n",
    "varA.append( defineAlias('D0M','daughter(0,M)'))\n",
    "varA.append( defineAlias('KsM','daughter(0,daughter(0,M))'))\n",
    "varA.append( defineAlias('PzM','daughter(0,daughter(3,M))'))\n",
    "varA.append( defineAlias('Pzp','daughter(0,daughter(3,p))'))\n",
    "varA.append( defineAlias('PzMatch','daughter(0,daughter(3,isSignal))'))\n",
    "varA.append( defineAlias('PpMatch','daughter(0,daughter(1,isSignal))'))\n",
    "varA.append( defineAlias('PmMatch','daughter(0,daughter(2,isSignal))'))\n",
    "varA.append( defineAlias('KsMatch','daughter(0,daughter(0,isSignal))'))\n",
    "varA.append( defineAlias('g1Match','daughter(0,daughter(3,daughter(0,isSignal)))'))\n",
    "varA.append( defineAlias('g2Match','daughter(0,daughter(3,daughter(1,isSignal)))'))\n",
    "varA.append( defineAlias('g1E','daughter(0,daughter(3,daughter(0,E)))'))\n",
    "varA.append( defineAlias('g2E','daughter(0,daughter(3,daughter(1,E)))'))\n",
    "varA.append( defineAlias('D0Match','daughter(0,isSignal)'))\n",
    "varA.append( defineAlias('slowpiMatch','daughter(1,isSignal)'))\n",
    "#allVars = variables.getVariables()\n",
    "#vars = []\n",
    "#for v in allVars:\n",
    "#    vars.append((v.group, v.name, v.description))\n",
    "#    if 'KsM' in v.name: print(v.group,v.name)\n",
    "# Define the variables we want to include for the B0 candidates\n",
    "\n",
    "\n"
   ]
  },
  {
   "cell_type": "markdown",
   "metadata": {},
   "source": [
    "Now use the variablesToNtuple method in modularAnalysis to write out the ntuple file. Call it \"BdKpi_ntuple.root\"."
   ]
  },
  {
   "cell_type": "code",
   "execution_count": 8,
   "metadata": {},
   "outputs": [],
   "source": [
    "# use predefined collections\n",
    "from variables import collections as varcoll"
   ]
  },
  {
   "cell_type": "code",
   "execution_count": 9,
   "metadata": {},
   "outputs": [
    {
     "name": "stdout",
     "output_type": "stream",
     "text": [
      "Output root file is ntuple.DstartoD0pi_D0toKspipipi0_signal.root\n"
     ]
    }
   ],
   "source": [
    "# Write variables to an ntuple file\n",
    "if mixed:\n",
    "    filename = 'ntuple.B0Kpi.root'\n",
    "else:\n",
    "    filename = 'ntuple.DstartoD0pi_D0toKspipipi0_signal.root'\n",
    "listOfVar = varcoll.inv_mass                \n",
    "listOfVar += varcoll.flight_info\n",
    "listOfVar += varcoll.mc_flight_info\n",
    "listOfVar += varcoll.vertex\n",
    "listOfVar += varcoll.kinematics\n",
    "listOfVar += varA\n",
    "listOfVar += ['isSignal', 'mcErrors', 'M','pCM','ECM','Q','dQ','chiProb']\n",
    "ma.variablesToNtuple('D*+:Dpi', listOfVar, filename=filename, treename=\"Dst\", path=path)\n",
    "print('Output root file is',filename)"
   ]
  },
  {
   "cell_type": "markdown",
   "metadata": {},
   "source": [
    "## 7. Process the path\n",
    "\n",
    "So far, we have just added modules to our path (with the help of nifty helper functions). Now we need to actually run the modules and create our output script.\n",
    "\n",
    "The file we are using is quite large. To reduce our waiting time, we can restrict ourselves to 10k events. Execute the following block without modification to find out how to do this. Then modify the block to actually process the path."
   ]
  },
  {
   "cell_type": "code",
   "execution_count": 10,
   "metadata": {
    "scrolled": true
   },
   "outputs": [
    {
     "data": {
      "application/vnd.jupyter.widget-view+json": {
       "model_id": "fd4bc6e532c647ffa56382be22bbd1a9",
       "version_major": 2,
       "version_minor": 0
      },
      "text/plain": [
       "VBox(children=(FloatProgress(value=0.0, layout=Layout(height='40px', width='100%'), max=1.0), Label(value=''))…"
      ]
     },
     "metadata": {},
     "output_type": "display_data"
    },
    {
     "data": {
      "application/vnd.jupyter.widget-view+json": {
       "model_id": "4b951b79dc9f4c61a286c2952af552c4",
       "version_major": 2,
       "version_minor": 0
      },
      "text/plain": [
       "VBox(children=(HBox(children=(HTML(value='<a onclick=\"$(\\'.log-line-debug\\').hide();\\n                        …"
      ]
     },
     "metadata": {},
     "output_type": "display_data"
    },
    {
     "data": {
      "text/plain": [
       "<hep_ipython_tools.ipython_handler_basf2.calculation.Basf2Calculation at 0x7fa7bc06c6a0>"
      ]
     },
     "execution_count": 10,
     "metadata": {},
     "output_type": "execute_result"
    }
   ],
   "source": [
    "# Process the path\n",
    "b2.process(path=path)"
   ]
  },
  {
   "cell_type": "markdown",
   "metadata": {},
   "source": [
    "If you did everything correctly, a new file called BdKpi_ntuple.root will show up in your working area. The next step is to produce some interesting plots. Once the processing is done, move on to b2starter-june19-plotting.py to explore some plotting techniques. You can also repeat this exercise using the signal MC you generated in the first tutorial. Make sure to change the output name so you don't overwrite your work."
   ]
  },
  {
   "cell_type": "code",
   "execution_count": 11,
   "metadata": {},
   "outputs": [
    {
     "name": "stdout",
     "output_type": "stream",
     "text": [
      "\u001b[31m[ERROR] ProcessStatistics data object is not available, you either disabled statistics with --no-stats or didn't run process(path) yet.\n",
      "\u001b[m\n"
     ]
    }
   ],
   "source": [
    "print(b2.statistics)\n"
   ]
  },
  {
   "cell_type": "code",
   "execution_count": 19,
   "metadata": {},
   "outputs": [
    {
     "name": "stdout",
     "output_type": "stream",
     "text": [
      "filename is ntuple.DstartoD0pi_D0toKspipipi0_signal.root\n"
     ]
    },
    {
     "data": {
      "text/plain": [
       "Index(['__experiment__', '__run__', '__event__', '__candidate__',\n",
       "       '__ncandidates__', '__weight__', 'M', 'ErrM', 'SigM', 'InvM',\n",
       "       'flightTime', 'flightDistance', 'flightTimeErr', 'flightDistanceErr',\n",
       "       'mc_flightTime', 'mc_flightDistance', 'mc_flightTimeErr',\n",
       "       'mc_flightDistanceErr', 'distance', 'significanceOfDistance', 'dx',\n",
       "       'dy', 'dz', 'x', 'y', 'z', 'x_uncertainty', 'y_uncertainty',\n",
       "       'z_uncertainty', 'dr', 'dphi', 'dcosTheta', 'prodVertexX',\n",
       "       'prodVertexY', 'prodVertexZ', 'prodVertexXErr', 'prodVertexYErr',\n",
       "       'prodVertexZErr', 'pValue', 'px', 'py', 'pz', 'pt', 'p', 'E', 'pCM',\n",
       "       'ECM', 'qslowpi', 'D0M', 'KsM', 'PzM', 'Pzp', 'PzMatch', 'PpMatch',\n",
       "       'PmMatch', 'KsMatch', 'g1Match', 'g2Match', 'g1E', 'g2E', 'D0Match',\n",
       "       'slowpiMatch', 'isSignal', 'mcErrors', 'Q', 'dQ', 'chiProb'],\n",
       "      dtype='object')"
      ]
     },
     "execution_count": 19,
     "metadata": {},
     "output_type": "execute_result"
    }
   ],
   "source": [
    "%matplotlib inline\n",
    "import matplotlib.pyplot as plt\n",
    "import root_pandas\n",
    "print('filename is',filename)\n",
    "Dst = root_pandas.read_root(filename, key='Dst')\n",
    "Dst.columns\n"
   ]
  },
  {
   "cell_type": "code",
   "execution_count": 28,
   "metadata": {},
   "outputs": [
    {
     "data": {
      "text/plain": [
       "array([[<matplotlib.axes._subplots.AxesSubplot object at 0x7fa794029828>]],\n",
       "      dtype=object)"
      ]
     },
     "execution_count": 28,
     "metadata": {},
     "output_type": "execute_result"
    },
    {
     "data": {
      "image/png": "[encoded data removed]",
      "text/plain": [
       "<Figure size 432x288 with 1 Axes>"
      ]
     },
     "metadata": {
      "needs_background": "light"
     },
     "output_type": "display_data"
    }
   ],
   "source": [
    "Dst.hist(column='chiProb')"
   ]
  },
  {
   "cell_type": "code",
   "execution_count": 20,
   "metadata": {},
   "outputs": [
    {
     "data": {
      "text/html": [
       "<div>\n",
       "<style scoped>\n",
       "    .dataframe tbody tr th:only-of-type {\n",
       "        vertical-align: middle;\n",
       "    }\n",
       "\n",
       "    .dataframe tbody tr th {\n",
       "        vertical-align: top;\n",
       "    }\n",
       "\n",
       "    .dataframe thead th {\n",
       "        text-align: right;\n",
       "    }\n",
       "</style>\n",
       "<table border=\"1\" class=\"dataframe\">\n",
       "  <thead>\n",
       "    <tr style=\"text-align: right;\">\n",
       "      <th></th>\n",
       "      <th>mcErrors</th>\n",
       "      <th>pValue</th>\n",
       "      <th>ErrM</th>\n",
       "      <th>chiProb</th>\n",
       "    </tr>\n",
       "  </thead>\n",
       "  <tbody>\n",
       "    <tr>\n",
       "      <th>count</th>\n",
       "      <td>2803.000000</td>\n",
       "      <td>2803.0</td>\n",
       "      <td>2803.000000</td>\n",
       "      <td>2803.000000</td>\n",
       "    </tr>\n",
       "    <tr>\n",
       "      <th>mean</th>\n",
       "      <td>610.276133</td>\n",
       "      <td>0.0</td>\n",
       "      <td>0.002331</td>\n",
       "      <td>-0.472026</td>\n",
       "    </tr>\n",
       "    <tr>\n",
       "      <th>std</th>\n",
       "      <td>321.595104</td>\n",
       "      <td>0.0</td>\n",
       "      <td>0.002668</td>\n",
       "      <td>0.740848</td>\n",
       "    </tr>\n",
       "    <tr>\n",
       "      <th>min</th>\n",
       "      <td>0.000000</td>\n",
       "      <td>0.0</td>\n",
       "      <td>0.000009</td>\n",
       "      <td>-1.000000</td>\n",
       "    </tr>\n",
       "    <tr>\n",
       "      <th>25%</th>\n",
       "      <td>512.000000</td>\n",
       "      <td>0.0</td>\n",
       "      <td>0.000924</td>\n",
       "      <td>-1.000000</td>\n",
       "    </tr>\n",
       "    <tr>\n",
       "      <th>50%</th>\n",
       "      <td>512.000000</td>\n",
       "      <td>0.0</td>\n",
       "      <td>0.001718</td>\n",
       "      <td>-1.000000</td>\n",
       "    </tr>\n",
       "    <tr>\n",
       "      <th>75%</th>\n",
       "      <td>512.000000</td>\n",
       "      <td>0.0</td>\n",
       "      <td>0.002873</td>\n",
       "      <td>0.009172</td>\n",
       "    </tr>\n",
       "    <tr>\n",
       "      <th>max</th>\n",
       "      <td>1530.000000</td>\n",
       "      <td>0.0</td>\n",
       "      <td>0.046152</td>\n",
       "      <td>1.000000</td>\n",
       "    </tr>\n",
       "  </tbody>\n",
       "</table>\n",
       "</div>"
      ],
      "text/plain": [
       "          mcErrors  pValue         ErrM      chiProb\n",
       "count  2803.000000  2803.0  2803.000000  2803.000000\n",
       "mean    610.276133     0.0     0.002331    -0.472026\n",
       "std     321.595104     0.0     0.002668     0.740848\n",
       "min       0.000000     0.0     0.000009    -1.000000\n",
       "25%     512.000000     0.0     0.000924    -1.000000\n",
       "50%     512.000000     0.0     0.001718    -1.000000\n",
       "75%     512.000000     0.0     0.002873     0.009172\n",
       "max    1530.000000     0.0     0.046152     1.000000"
      ]
     },
     "execution_count": 20,
     "metadata": {},
     "output_type": "execute_result"
    }
   ],
   "source": [
    "Dst[['mcErrors','pValue','ErrM','chiProb']].describe()"
   ]
  },
  {
   "cell_type": "code",
   "execution_count": 21,
   "metadata": {},
   "outputs": [],
   "source": [
    "matchSet = Dst[['isSignal','D0Match','slowpiMatch','KsMatch','PpMatch','PmMatch','PzMatch','g1Match','g2Match','g1E','g2E']]"
   ]
  },
  {
   "cell_type": "code",
   "execution_count": 22,
   "metadata": {},
   "outputs": [
    {
     "data": {
      "text/html": [
       "<div>\n",
       "<style scoped>\n",
       "    .dataframe tbody tr th:only-of-type {\n",
       "        vertical-align: middle;\n",
       "    }\n",
       "\n",
       "    .dataframe tbody tr th {\n",
       "        vertical-align: top;\n",
       "    }\n",
       "\n",
       "    .dataframe thead th {\n",
       "        text-align: right;\n",
       "    }\n",
       "</style>\n",
       "<table border=\"1\" class=\"dataframe\">\n",
       "  <thead>\n",
       "    <tr style=\"text-align: right;\">\n",
       "      <th></th>\n",
       "      <th>isSignal</th>\n",
       "      <th>D0Match</th>\n",
       "      <th>slowpiMatch</th>\n",
       "      <th>KsMatch</th>\n",
       "      <th>PpMatch</th>\n",
       "      <th>PmMatch</th>\n",
       "      <th>PzMatch</th>\n",
       "      <th>g1Match</th>\n",
       "      <th>g2Match</th>\n",
       "      <th>g1E</th>\n",
       "      <th>g2E</th>\n",
       "    </tr>\n",
       "  </thead>\n",
       "  <tbody>\n",
       "    <tr>\n",
       "      <th>count</th>\n",
       "      <td>2803.000000</td>\n",
       "      <td>2803.000000</td>\n",
       "      <td>2803.000000</td>\n",
       "      <td>2803.000000</td>\n",
       "      <td>2803.000000</td>\n",
       "      <td>2803.000000</td>\n",
       "      <td>2803.000000</td>\n",
       "      <td>2803.000000</td>\n",
       "      <td>2803.00000</td>\n",
       "      <td>2803.000000</td>\n",
       "      <td>2803.000000</td>\n",
       "    </tr>\n",
       "    <tr>\n",
       "      <th>mean</th>\n",
       "      <td>0.002497</td>\n",
       "      <td>0.004995</td>\n",
       "      <td>0.608634</td>\n",
       "      <td>0.765252</td>\n",
       "      <td>0.979665</td>\n",
       "      <td>0.966465</td>\n",
       "      <td>0.121299</td>\n",
       "      <td>0.559401</td>\n",
       "      <td>0.58259</td>\n",
       "      <td>0.146406</td>\n",
       "      <td>0.162203</td>\n",
       "    </tr>\n",
       "    <tr>\n",
       "      <th>std</th>\n",
       "      <td>0.049920</td>\n",
       "      <td>0.070509</td>\n",
       "      <td>0.488143</td>\n",
       "      <td>0.423917</td>\n",
       "      <td>0.141170</td>\n",
       "      <td>0.180062</td>\n",
       "      <td>0.326532</td>\n",
       "      <td>0.496548</td>\n",
       "      <td>0.49322</td>\n",
       "      <td>0.115774</td>\n",
       "      <td>0.129768</td>\n",
       "    </tr>\n",
       "    <tr>\n",
       "      <th>min</th>\n",
       "      <td>0.000000</td>\n",
       "      <td>0.000000</td>\n",
       "      <td>0.000000</td>\n",
       "      <td>0.000000</td>\n",
       "      <td>0.000000</td>\n",
       "      <td>0.000000</td>\n",
       "      <td>0.000000</td>\n",
       "      <td>0.000000</td>\n",
       "      <td>0.00000</td>\n",
       "      <td>0.030141</td>\n",
       "      <td>0.030206</td>\n",
       "    </tr>\n",
       "    <tr>\n",
       "      <th>25%</th>\n",
       "      <td>0.000000</td>\n",
       "      <td>0.000000</td>\n",
       "      <td>0.000000</td>\n",
       "      <td>1.000000</td>\n",
       "      <td>1.000000</td>\n",
       "      <td>1.000000</td>\n",
       "      <td>0.000000</td>\n",
       "      <td>0.000000</td>\n",
       "      <td>0.00000</td>\n",
       "      <td>0.080355</td>\n",
       "      <td>0.076327</td>\n",
       "    </tr>\n",
       "    <tr>\n",
       "      <th>50%</th>\n",
       "      <td>0.000000</td>\n",
       "      <td>0.000000</td>\n",
       "      <td>1.000000</td>\n",
       "      <td>1.000000</td>\n",
       "      <td>1.000000</td>\n",
       "      <td>1.000000</td>\n",
       "      <td>0.000000</td>\n",
       "      <td>1.000000</td>\n",
       "      <td>1.00000</td>\n",
       "      <td>0.119236</td>\n",
       "      <td>0.129596</td>\n",
       "    </tr>\n",
       "    <tr>\n",
       "      <th>75%</th>\n",
       "      <td>0.000000</td>\n",
       "      <td>0.000000</td>\n",
       "      <td>1.000000</td>\n",
       "      <td>1.000000</td>\n",
       "      <td>1.000000</td>\n",
       "      <td>1.000000</td>\n",
       "      <td>0.000000</td>\n",
       "      <td>1.000000</td>\n",
       "      <td>1.00000</td>\n",
       "      <td>0.178281</td>\n",
       "      <td>0.196695</td>\n",
       "    </tr>\n",
       "    <tr>\n",
       "      <th>max</th>\n",
       "      <td>1.000000</td>\n",
       "      <td>1.000000</td>\n",
       "      <td>1.000000</td>\n",
       "      <td>1.000000</td>\n",
       "      <td>1.000000</td>\n",
       "      <td>1.000000</td>\n",
       "      <td>1.000000</td>\n",
       "      <td>1.000000</td>\n",
       "      <td>1.00000</td>\n",
       "      <td>1.210065</td>\n",
       "      <td>1.210065</td>\n",
       "    </tr>\n",
       "  </tbody>\n",
       "</table>\n",
       "</div>"
      ],
      "text/plain": [
       "          isSignal      D0Match  slowpiMatch      KsMatch      PpMatch  \\\n",
       "count  2803.000000  2803.000000  2803.000000  2803.000000  2803.000000   \n",
       "mean      0.002497     0.004995     0.608634     0.765252     0.979665   \n",
       "std       0.049920     0.070509     0.488143     0.423917     0.141170   \n",
       "min       0.000000     0.000000     0.000000     0.000000     0.000000   \n",
       "25%       0.000000     0.000000     0.000000     1.000000     1.000000   \n",
       "50%       0.000000     0.000000     1.000000     1.000000     1.000000   \n",
       "75%       0.000000     0.000000     1.000000     1.000000     1.000000   \n",
       "max       1.000000     1.000000     1.000000     1.000000     1.000000   \n",
       "\n",
       "           PmMatch      PzMatch      g1Match     g2Match          g1E  \\\n",
       "count  2803.000000  2803.000000  2803.000000  2803.00000  2803.000000   \n",
       "mean      0.966465     0.121299     0.559401     0.58259     0.146406   \n",
       "std       0.180062     0.326532     0.496548     0.49322     0.115774   \n",
       "min       0.000000     0.000000     0.000000     0.00000     0.030141   \n",
       "25%       1.000000     0.000000     0.000000     0.00000     0.080355   \n",
       "50%       1.000000     0.000000     1.000000     1.00000     0.119236   \n",
       "75%       1.000000     0.000000     1.000000     1.00000     0.178281   \n",
       "max       1.000000     1.000000     1.000000     1.00000     1.210065   \n",
       "\n",
       "               g2E  \n",
       "count  2803.000000  \n",
       "mean      0.162203  \n",
       "std       0.129768  \n",
       "min       0.030206  \n",
       "25%       0.076327  \n",
       "50%       0.129596  \n",
       "75%       0.196695  \n",
       "max       1.210065  "
      ]
     },
     "execution_count": 22,
     "metadata": {},
     "output_type": "execute_result"
    }
   ],
   "source": [
    "matchSet.describe()"
   ]
  },
  {
   "cell_type": "code",
   "execution_count": 23,
   "metadata": {},
   "outputs": [
    {
     "data": {
      "text/plain": [
       "array([<matplotlib.axes._subplots.AxesSubplot object at 0x7fa7152a9ef0>,\n",
       "       <matplotlib.axes._subplots.AxesSubplot object at 0x7fa71524f198>],\n",
       "      dtype=object)"
      ]
     },
     "execution_count": 23,
     "metadata": {},
     "output_type": "execute_result"
    },
    {
     "data": {
      "image/png": "[encoded data removed]",
      "text/plain": [
       "<Figure size 432x288 with 2 Axes>"
      ]
     },
     "metadata": {
      "needs_background": "light"
     },
     "output_type": "display_data"
    }
   ],
   "source": [
    "Dst.hist(column='p',by='slowpiMatch',bins=20,range=(0.,3.))"
   ]
  },
  {
   "cell_type": "code",
   "execution_count": 24,
   "metadata": {},
   "outputs": [
    {
     "data": {
      "text/plain": [
       "array([<matplotlib.axes._subplots.AxesSubplot object at 0x7fa7152a8cf8>,\n",
       "       <matplotlib.axes._subplots.AxesSubplot object at 0x7fa71514c470>],\n",
       "      dtype=object)"
      ]
     },
     "execution_count": 24,
     "metadata": {},
     "output_type": "execute_result"
    },
    {
     "data": {
      "image/png": "[encoded data removed]",
      "text/plain": [
       "<Figure size 432x288 with 2 Axes>"
      ]
     },
     "metadata": {
      "needs_background": "light"
     },
     "output_type": "display_data"
    }
   ],
   "source": [
    "Dst.hist(column='D0M',by='D0Match',bins=20,range=(1.75,1.95))#,bins=16,range=(0.,0.16))"
   ]
  },
  {
   "cell_type": "code",
   "execution_count": 27,
   "metadata": {},
   "outputs": [
    {
     "data": {
      "text/plain": [
       "(array([ 517., 1135.,  643.,   71.,   33.,   23.,   20.,   14.,   14.,\n",
       "          10.,   11.,   15.,    9.,    3.,    9.,    4.,    3.,    2.,\n",
       "           2.,    0.]),\n",
       " array([0.  , 0.01, 0.02, 0.03, 0.04, 0.05, 0.06, 0.07, 0.08, 0.09, 0.1 ,\n",
       "        0.11, 0.12, 0.13, 0.14, 0.15, 0.16, 0.17, 0.18, 0.19, 0.2 ]),\n",
       " <a list of 20 Patch objects>)"
      ]
     },
     "execution_count": 27,
     "metadata": {},
     "output_type": "execute_result"
    },
    {
     "data": {
      "image/png": "[encoded data removed]",
      "text/plain": [
       "<Figure size 432x288 with 1 Axes>"
      ]
     },
     "metadata": {
      "needs_background": "light"
     },
     "output_type": "display_data"
    }
   ],
   "source": [
    "plt.hist(Dst.M-Dst.D0M-.1349,bins=20,range=(0.,.2))"
   ]
  },
  {
   "cell_type": "code",
   "execution_count": null,
   "metadata": {},
   "outputs": [],
   "source": []
  },
  {
   "cell_type": "code",
   "execution_count": null,
   "metadata": {},
   "outputs": [],
   "source": [
    "#hist2d(data.p[isPion], data.pionID[isPion], bins=(50,100), range=([0,3],[-0.1, 1.1]), norm=LogNorm()#)\n",
    "#import matplotlib.pyplot as plt\n",
    "h=plt.hist2d(Dst.g1Match,Dst.g2Match,bins=(2,2),range=([0,1],[0,1]))#,xlabel='gamma1 matched',ylabel='gamma2 matched')      \n",
    "#xlabel('gamma1 matched')\n",
    "#ylabel('gamma2 matched')\n",
    "plt.colorbar(h[3])\n"
   ]
  },
  {
   "cell_type": "code",
   "execution_count": null,
   "metadata": {},
   "outputs": [],
   "source": [
    "h=plt.hist2d(Dst.chiProb,Dst.mcErrors)\n",
    "plt.colorbar(h[3])"
   ]
  },
  {
   "cell_type": "code",
   "execution_count": null,
   "metadata": {},
   "outputs": [],
   "source": [
    "plt.hist2d(Dst.g1E,Dst.g2E)"
   ]
  },
  {
   "cell_type": "code",
   "execution_count": null,
   "metadata": {},
   "outputs": [],
   "source": [
    "plt.hist(Dst.g1E-Dst.g2E)"
   ]
  },
  {
   "cell_type": "code",
   "execution_count": null,
   "metadata": {},
   "outputs": [],
   "source": [
    "Dst.hist('PzM')"
   ]
  },
  {
   "cell_type": "code",
   "execution_count": null,
   "metadata": {},
   "outputs": [],
   "source": [
    "Dst.plot.scatter('Pzp','PzMatch')"
   ]
  },
  {
   "cell_type": "code",
   "execution_count": null,
   "metadata": {},
   "outputs": [],
   "source": [
    "Dst.hist('PzM',by='PzMatch',bins=20,range=(.13,.16))"
   ]
  },
  {
   "cell_type": "code",
   "execution_count": null,
   "metadata": {},
   "outputs": [],
   "source": [
    "Dst.hist('KsM',by='KsMatch',bins=20,range=(.46,.54))"
   ]
  },
  {
   "cell_type": "code",
   "execution_count": null,
   "metadata": {},
   "outputs": [],
   "source": []
  }
 ],
 "metadata": {
  "kernelspec": {
   "display_name": "Python 3 (Belle2)",
   "language": "python",
   "name": "python3"
  },
  "language_info": {
   "codemirror_mode": {
    "name": "ipython",
    "version": 3
   },
   "file_extension": ".py",
   "mimetype": "text/x-python",
   "name": "python",
   "nbconvert_exporter": "python",
   "pygments_lexer": "ipython3",
   "version": "3.6.6"
  }
 },
 "nbformat": 4,
 "nbformat_minor": 2
}
